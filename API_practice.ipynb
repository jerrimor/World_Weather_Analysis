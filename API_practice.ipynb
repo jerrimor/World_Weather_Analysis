{
 "cells": [
  {
   "cell_type": "code",
   "execution_count": 50,
   "id": "7e1d522c",
   "metadata": {},
   "outputs": [],
   "source": [
    "# Create a practice set of random latitude and longitude combinations. 6.1.4\n",
    "x = [25.12903645, 25.92017388, 26.62509167, -59.98969384, 37.30571269]\n",
    "y = [-67.59741259, 11.09532135, 74.84233102, -76.89176677, -61.13376282]\n",
    "coordinates = zip(x, y)"
   ]
  },
  {
   "cell_type": "code",
   "execution_count": 51,
   "id": "bde3ba2e",
   "metadata": {},
   "outputs": [
    {
     "name": "stdout",
     "output_type": "stream",
     "text": [
      "25.12903645 -67.59741259\n",
      "25.92017388 11.09532135\n",
      "26.62509167 74.84233102\n",
      "-59.98969384 -76.89176677\n",
      "37.30571269 -61.13376282\n"
     ]
    }
   ],
   "source": [
    "# Use the tuple() function to display the latitude and longitude combinations.\n",
    "for coordinate in coordinates:\n",
    "    print(coordinate[0], coordinate[1])"
   ]
  },
  {
   "cell_type": "code",
   "execution_count": 52,
   "id": "3408e74d",
   "metadata": {},
   "outputs": [],
   "source": [
    "#use citypy module to practice using citypy\n",
    "from citipy import citipy "
   ]
  },
  {
   "cell_type": "code",
   "execution_count": 53,
   "id": "643b08c0",
   "metadata": {},
   "outputs": [],
   "source": [
    "#using tuple to find nearest city and country in lat lon\n",
    "for coordinate in coordinates:\n",
    "    print(citipy.nearest_city(coordinate[0],coordinate[1]).city_name, citipy.nearest_city(coordinate[0], coordinate[1]).country_name)\n",
    "\n"
   ]
  },
  {
   "cell_type": "code",
   "execution_count": 54,
   "id": "0cbe29da",
   "metadata": {},
   "outputs": [],
   "source": [
    "#import the requests library, 6.2.3\n",
    "import requests\n",
    "\n",
    "#import the API key.\n",
    "from config import weather_api_key\n"
   ]
  },
  {
   "cell_type": "code",
   "execution_count": 55,
   "id": "5e71db96",
   "metadata": {},
   "outputs": [],
   "source": [
    "#starting URL for the weather map API call.\n",
    "url = \"http://api.openweathermap.org/data/2.5/weather?units=Imperial&APPID=\" + weather_api_key\n",
    "#print(url)"
   ]
  },
  {
   "cell_type": "code",
   "execution_count": 56,
   "id": "a72debbc",
   "metadata": {},
   "outputs": [
    {
     "name": "stdout",
     "output_type": "stream",
     "text": [
      "http://api.openweathermap.org/data/2.5/weather?units=Imperial&APPID=5f80a7ae9c78f2fc8cb9e51085454b2d&q=Boston\n"
     ]
    }
   ],
   "source": [
    "#create an endpoint URL for a city.\n",
    "city_url = url + \"&q=\" + \"Boston\"\n",
    "print(city_url)"
   ]
  },
  {
   "cell_type": "code",
   "execution_count": 2,
   "id": "93e93832",
   "metadata": {},
   "outputs": [],
   "source": [
    "import requests\n",
    "from config import weather_api_key\n"
   ]
  },
  {
   "cell_type": "code",
   "execution_count": 7,
   "id": "ff1a577e",
   "metadata": {},
   "outputs": [
    {
     "data": {
      "text/plain": [
       "{'cod': 401,\n",
       " 'message': 'Invalid API key. Please see http://openweathermap.org/faq#error401 for more info.'}"
      ]
     },
     "execution_count": 7,
     "metadata": {},
     "output_type": "execute_result"
    }
   ],
   "source": [
    "url = \"http://api.openweathermap.org/data/2.5/weather?units=Imperial&APPID=\" + weather_api_key\n",
    "city = \"London\"\n",
    "query_url = url + \"appid\" + weather_api_key + \"&=\" + city\n",
    "weather_response = requests.get(query_url)\n",
    "weather_json = weather_response.json()\n",
    "weather_json"
   ]
  },
  {
   "cell_type": "code",
   "execution_count": 59,
   "id": "6687dc38",
   "metadata": {},
   "outputs": [],
   "source": [
    "query_url = url + \"appid\" + weather_api_key + \"&=\" + city"
   ]
  },
  {
   "cell_type": "code",
   "execution_count": 60,
   "id": "9d20ddc1",
   "metadata": {},
   "outputs": [],
   "source": [
    "weather_response = requests.get(query_url)\n",
    "weather_json = weather_response.json()"
   ]
  },
  {
   "cell_type": "code",
   "execution_count": 61,
   "id": "86965c5e",
   "metadata": {},
   "outputs": [
    {
     "data": {
      "text/plain": [
       "dict_keys(['cod', 'message'])"
      ]
     },
     "execution_count": 61,
     "metadata": {},
     "output_type": "execute_result"
    }
   ],
   "source": [
    "weather_json.keys()"
   ]
  },
  {
   "cell_type": "code",
   "execution_count": 62,
   "id": "7d98c094",
   "metadata": {},
   "outputs": [],
   "source": [
    "weather_json.get('main')"
   ]
  },
  {
   "cell_type": "code",
   "execution_count": 63,
   "id": "9574eef1",
   "metadata": {},
   "outputs": [
    {
     "data": {
      "text/plain": [
       "<Response [200]>"
      ]
     },
     "execution_count": 63,
     "metadata": {},
     "output_type": "execute_result"
    }
   ],
   "source": [
    "#make a 'get' request for the city weather.\n",
    "city_weather = requests.get(city_url)\n",
    "city_weather"
   ]
  },
  {
   "cell_type": "code",
   "execution_count": 64,
   "id": "fa97612a",
   "metadata": {},
   "outputs": [
    {
     "data": {
      "text/plain": [
       "'{\"coord\":{\"lon\":-71.0598,\"lat\":42.3584},\"weather\":[{\"id\":501,\"main\":\"Rain\",\"description\":\"moderate rain\",\"icon\":\"10d\"},{\"id\":741,\"main\":\"Fog\",\"description\":\"fog\",\"icon\":\"50d\"}],\"base\":\"stations\",\"main\":{\"temp\":42.71,\"feels_like\":39.15,\"temp_min\":38.95,\"temp_max\":46.51,\"pressure\":1023,\"humidity\":96},\"visibility\":402,\"wind\":{\"speed\":5.75,\"deg\":170},\"rain\":{\"1h\":1.15},\"clouds\":{\"all\":100},\"dt\":1643925304,\"sys\":{\"type\":1,\"id\":3486,\"country\":\"US\",\"sunrise\":1643889346,\"sunset\":1643925619},\"timezone\":-18000,\"id\":4930956,\"name\":\"Boston\",\"cod\":200}'"
      ]
     },
     "execution_count": 64,
     "metadata": {},
     "output_type": "execute_result"
    }
   ],
   "source": [
    "#create an endpoint URL for a city\n",
    "city_url = url + \"&q=\" + \"boston\"\n",
    "city_weather = requests.get(city_url)\n",
    "city_weather.text"
   ]
  },
  {
   "cell_type": "code",
   "execution_count": 65,
   "id": "fe907f93",
   "metadata": {
    "scrolled": true
   },
   "outputs": [
    {
     "data": {
      "text/plain": [
       "{'coord': {'lon': -71.0598, 'lat': 42.3584},\n",
       " 'weather': [{'id': 501,\n",
       "   'main': 'Rain',\n",
       "   'description': 'moderate rain',\n",
       "   'icon': '10d'},\n",
       "  {'id': 741, 'main': 'Fog', 'description': 'fog', 'icon': '50d'}],\n",
       " 'base': 'stations',\n",
       " 'main': {'temp': 42.71,\n",
       "  'feels_like': 39.15,\n",
       "  'temp_min': 38.95,\n",
       "  'temp_max': 46.51,\n",
       "  'pressure': 1023,\n",
       "  'humidity': 96},\n",
       " 'visibility': 402,\n",
       " 'wind': {'speed': 5.75, 'deg': 170},\n",
       " 'rain': {'1h': 1.15},\n",
       " 'clouds': {'all': 100},\n",
       " 'dt': 1643925304,\n",
       " 'sys': {'type': 1,\n",
       "  'id': 3486,\n",
       "  'country': 'US',\n",
       "  'sunrise': 1643889346,\n",
       "  'sunset': 1643925619},\n",
       " 'timezone': -18000,\n",
       " 'id': 4930956,\n",
       " 'name': 'Boston',\n",
       " 'cod': 200}"
      ]
     },
     "execution_count": 65,
     "metadata": {},
     "output_type": "execute_result"
    }
   ],
   "source": [
    "#get the JSON text of the 'Get' request.\n",
    "city_weather.json()"
   ]
  },
  {
   "cell_type": "code",
   "execution_count": 40,
   "id": "aa211238",
   "metadata": {},
   "outputs": [
    {
     "name": "stdout",
     "output_type": "stream",
     "text": [
      "City weather found.\n"
     ]
    }
   ],
   "source": [
    "#create an endpoint URL for a city.\n",
    "city_url = url + \"&q=\" + \"Boston\"\n",
    "city_weather = requests.get(city_url)\n",
    "if city_weather.status_code == 200:\n",
    "    print(f\"City weather found.\")\n",
    "else:\n",
    "    print(f\"City weather not found.\")"
   ]
  },
  {
   "cell_type": "code",
   "execution_count": 41,
   "id": "9a37b450",
   "metadata": {},
   "outputs": [
    {
     "name": "stdout",
     "output_type": "stream",
     "text": [
      "City weather found.\n"
     ]
    }
   ],
   "source": [
    "#create an endpoint URL for a city.\n",
    "city_url = url + \"&q=\" + \"Boston\"\n",
    "city_weather = requests.get(city_url)\n",
    "if city_weather.status_code == 200:\n",
    "    print(f\"City weather found.\")\n",
    "else:\n",
    "    print(f\"City weather not found.\")"
   ]
  },
  {
   "cell_type": "code",
   "execution_count": 42,
   "id": "5edc40cb",
   "metadata": {},
   "outputs": [
    {
     "name": "stdout",
     "output_type": "stream",
     "text": [
      "http://api.openweathermap.org/data/2.5/weather?units=Imperial&APPID=5f80a7ae9c78f2fc8cb9e51085454b2d&q=Boston\n"
     ]
    }
   ],
   "source": [
    "print(city_url)"
   ]
  },
  {
   "cell_type": "code",
   "execution_count": 43,
   "id": "d09556ab",
   "metadata": {},
   "outputs": [
    {
     "data": {
      "text/plain": [
       "{'coord': {'lon': -71.0598, 'lat': 42.3584},\n",
       " 'weather': [{'id': 804,\n",
       "   'main': 'Clouds',\n",
       "   'description': 'overcast clouds',\n",
       "   'icon': '04d'}],\n",
       " 'base': 'stations',\n",
       " 'main': {'temp': 40.66,\n",
       "  'feels_like': 40.66,\n",
       "  'temp_min': 37.69,\n",
       "  'temp_max': 44.15,\n",
       "  'pressure': 1030,\n",
       "  'humidity': 88},\n",
       " 'visibility': 45,\n",
       " 'wind': {'speed': 1.79, 'deg': 162, 'gust': 2.01},\n",
       " 'clouds': {'all': 100},\n",
       " 'dt': 1643838991,\n",
       " 'sys': {'type': 2,\n",
       "  'id': 2019747,\n",
       "  'country': 'US',\n",
       "  'sunrise': 1643803010,\n",
       "  'sunset': 1643839140},\n",
       " 'timezone': -18000,\n",
       " 'id': 4930956,\n",
       " 'name': 'Boston',\n",
       " 'cod': 200}"
      ]
     },
     "execution_count": 43,
     "metadata": {},
     "output_type": "execute_result"
    }
   ],
   "source": [
    "#create an endpoint URL for a city\n",
    "city_url = url + \"&q=\" + \"Boston\"\n",
    "city_weather = requests.get(city_url)\n",
    "city_weather.json()"
   ]
  },
  {
   "cell_type": "code",
   "execution_count": 44,
   "id": "582b9cd2",
   "metadata": {},
   "outputs": [],
   "source": [
    "#get the JSON data\n",
    "boston_data = city_weather.json()"
   ]
  },
  {
   "cell_type": "code",
   "execution_count": 45,
   "id": "6c558ded",
   "metadata": {},
   "outputs": [
    {
     "data": {
      "text/plain": [
       "'US'"
      ]
     },
     "execution_count": 45,
     "metadata": {},
     "output_type": "execute_result"
    }
   ],
   "source": [
    "#return the country value from the sys key\n",
    "boston_data['sys'][\"country\"]"
   ]
  },
  {
   "cell_type": "code",
   "execution_count": 46,
   "id": "dce88f78",
   "metadata": {},
   "outputs": [
    {
     "data": {
      "text/plain": [
       "1643838991"
      ]
     },
     "execution_count": 46,
     "metadata": {},
     "output_type": "execute_result"
    }
   ],
   "source": [
    "#return the date\n",
    "boston_data['dt']"
   ]
  },
  {
   "cell_type": "code",
   "execution_count": 47,
   "id": "f91faba6",
   "metadata": {},
   "outputs": [
    {
     "name": "stdout",
     "output_type": "stream",
     "text": [
      "42.3584 -71.0598 44.15 88 100 1.79\n"
     ]
    }
   ],
   "source": [
    "#getting further data from boston json\n",
    "lat = boston_data[\"coord\"][\"lat\"]\n",
    "lng = boston_data[\"coord\"][\"lon\"]\n",
    "max_temp = boston_data[\"main\"][\"temp_max\"]\n",
    "humidity = boston_data[\"main\"][\"humidity\"]\n",
    "clouds = boston_data[\"clouds\"][\"all\"]\n",
    "wind = boston_data[\"wind\"][\"speed\"]\n",
    "print(lat, lng, max_temp, humidity, clouds, wind)"
   ]
  },
  {
   "cell_type": "code",
   "execution_count": 48,
   "id": "aa7b202e",
   "metadata": {},
   "outputs": [
    {
     "data": {
      "text/plain": [
       "'2022-02-02 21:56:31'"
      ]
     },
     "execution_count": 48,
     "metadata": {},
     "output_type": "execute_result"
    }
   ],
   "source": [
    "#import the time module from datetime library 6.2.5\n",
    "from datetime import datetime\n",
    "#get the date from the json file\n",
    "date = boston_data[\"dt\"]\n",
    "#convert the UTC date to a date format with the year, month, day, hours, minutes and seconds\n",
    "datetime.utcfromtimestamp(date).strftime('%Y-%m-%d %H:%M:%S')"
   ]
  },
  {
   "cell_type": "code",
   "execution_count": null,
   "id": "1371d12d",
   "metadata": {},
   "outputs": [],
   "source": []
  }
 ],
 "metadata": {
  "kernelspec": {
   "display_name": "Python 3 (ipykernel)",
   "language": "python",
   "name": "python3"
  },
  "language_info": {
   "codemirror_mode": {
    "name": "ipython",
    "version": 3
   },
   "file_extension": ".py",
   "mimetype": "text/x-python",
   "name": "python",
   "nbconvert_exporter": "python",
   "pygments_lexer": "ipython3",
   "version": "3.9.7"
  }
 },
 "nbformat": 4,
 "nbformat_minor": 5
}
