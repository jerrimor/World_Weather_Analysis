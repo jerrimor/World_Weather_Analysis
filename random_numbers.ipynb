{
 "cells": [
  {
   "cell_type": "code",
   "execution_count": 1,
   "id": "8bd3e0c1",
   "metadata": {},
   "outputs": [],
   "source": [
    "#import random module\n",
    "import random"
   ]
  },
  {
   "cell_type": "code",
   "execution_count": 2,
   "id": "b2718d33",
   "metadata": {},
   "outputs": [
    {
     "data": {
      "text/plain": [
       "49"
      ]
     },
     "execution_count": 2,
     "metadata": {},
     "output_type": "execute_result"
    }
   ],
   "source": [
    "#testing randint function, returns only one integer value\n",
    "random.randint(-90,90)"
   ]
  },
  {
   "cell_type": "code",
   "execution_count": 3,
   "id": "5b6e52b5",
   "metadata": {},
   "outputs": [
    {
     "data": {
      "text/plain": [
       "0.3620687083851021"
      ]
     },
     "execution_count": 3,
     "metadata": {},
     "output_type": "execute_result"
    }
   ],
   "source": [
    "#testing random() and will return 0 to 1.0\n",
    "random.random()"
   ]
  },
  {
   "cell_type": "code",
   "execution_count": 6,
   "id": "333c445d",
   "metadata": {},
   "outputs": [
    {
     "data": {
      "text/plain": [
       "63.9249145279688"
      ]
     },
     "execution_count": 6,
     "metadata": {},
     "output_type": "execute_result"
    }
   ],
   "source": [
    "#combining both randint and random() for a floating number\n",
    "random_number = random.randint(-90, 89) + random.random()\n",
    "random_number"
   ]
  },
  {
   "cell_type": "code",
   "execution_count": 8,
   "id": "6f10bb96",
   "metadata": {},
   "outputs": [
    {
     "data": {
      "text/plain": [
       "[-69.05353596411375,\n",
       " 3.1817329881471315,\n",
       " 37.07269809039039,\n",
       " 20.681744858445942,\n",
       " 86.8930821545475,\n",
       " -52.64384994577991,\n",
       " -89.66479314838641,\n",
       " -46.23224360027754,\n",
       " 88.18624155613811,\n",
       " 16.926556238864777]"
      ]
     },
     "execution_count": 8,
     "metadata": {},
     "output_type": "execute_result"
    }
   ],
   "source": [
    "#generating the same type of number, 10 times\n",
    "x = 1\n",
    "latitudes = []\n",
    "while x < 11:\n",
    "    random_lat = random.randint(-90, 89) + random.random()\n",
    "    latitudes.append(random_lat)\n",
    "    x += 1\n",
    "latitudes"
   ]
  },
  {
   "cell_type": "code",
   "execution_count": 9,
   "id": "ca541c29",
   "metadata": {},
   "outputs": [
    {
     "data": {
      "text/plain": [
       "-81"
      ]
     },
     "execution_count": 9,
     "metadata": {},
     "output_type": "execute_result"
    }
   ],
   "source": [
    "#testing randrange\n",
    "random.randrange(-90,90, step = 1)"
   ]
  },
  {
   "cell_type": "code",
   "execution_count": 10,
   "id": "d3701896",
   "metadata": {},
   "outputs": [
    {
     "data": {
      "text/plain": [
       "48"
      ]
     },
     "execution_count": 10,
     "metadata": {},
     "output_type": "execute_result"
    }
   ],
   "source": [
    "#changing step value\n",
    "random.randrange(-90,90, step = 3)"
   ]
  },
  {
   "cell_type": "code",
   "execution_count": 11,
   "id": "104bf9f9",
   "metadata": {},
   "outputs": [
    {
     "data": {
      "text/plain": [
       "-38.96452101574219"
      ]
     },
     "execution_count": 11,
     "metadata": {},
     "output_type": "execute_result"
    }
   ],
   "source": [
    "#testing with uniform random function, produces floating point decimal number between a given range\n",
    "random.uniform(-90,90)"
   ]
  },
  {
   "cell_type": "code",
   "execution_count": 13,
   "id": "5888c75e",
   "metadata": {},
   "outputs": [],
   "source": [
    "#import Numpy module\n",
    "import numpy as np"
   ]
  },
  {
   "cell_type": "code",
   "execution_count": 15,
   "id": "723bd544",
   "metadata": {},
   "outputs": [
    {
     "data": {
      "text/plain": [
       "-14.596973839883674"
      ]
     },
     "execution_count": 15,
     "metadata": {},
     "output_type": "execute_result"
    }
   ],
   "source": [
    "#using numpy for generation of random floating numbers\n",
    "np.random.uniform(-90.000,90.000)"
   ]
  },
  {
   "cell_type": "code",
   "execution_count": 16,
   "id": "7e306a4b",
   "metadata": {},
   "outputs": [
    {
     "data": {
      "text/plain": [
       "array([-67.7025383 ,  18.29739461,  66.24440583,  88.0115982 ,\n",
       "        -4.63451317,  79.38239596, -56.00940552, -83.22726999,\n",
       "       -74.22137424, -54.8195142 , -40.28224252, -64.80371175,\n",
       "        33.75931147,  42.81600552, -62.83429595, -25.73505664,\n",
       "        10.60312784, -88.0014922 ,  56.87158359, -87.20238936,\n",
       "       -39.33711093,   5.3058368 , -18.61286678,  -4.6794423 ,\n",
       "         5.19296969, -52.45185636,  31.81349047,  37.84660013,\n",
       "        -9.36383968,  32.78462621, -24.6521398 , -49.6606232 ,\n",
       "        71.82616175, -74.13621043, -11.98538692,  86.32094532,\n",
       "       -56.17735277, -78.9688402 , -78.66764963,  77.27408163,\n",
       "       -64.1786935 ,  72.06929242,  77.5849483 ,  52.4202698 ,\n",
       "        57.48067156, -37.74377892,  21.15171984,  58.99899695,\n",
       "       -44.91126005,  42.78631221])"
      ]
     },
     "execution_count": 16,
     "metadata": {},
     "output_type": "execute_result"
    }
   ],
   "source": [
    "#using numpy for generation of random floating numbers, adding a value for how many numbers to produce\n",
    "np.random.uniform(-90.000,90.000, size = 50)"
   ]
  },
  {
   "cell_type": "code",
   "execution_count": 17,
   "id": "ff6a5021",
   "metadata": {},
   "outputs": [],
   "source": [
    "#import timeit\n",
    "import timeit"
   ]
  },
  {
   "cell_type": "code",
   "execution_count": 18,
   "id": "d40110e8",
   "metadata": {},
   "outputs": [
    {
     "name": "stdout",
     "output_type": "stream",
     "text": [
      "12.6 µs ± 35.5 ns per loop (mean ± std. dev. of 7 runs, 100000 loops each)\n"
     ]
    }
   ],
   "source": [
    "#time the script written for random with a size of 1500\n",
    "%timeit np.random.uniform(-90.000, 90.000, size=1500)"
   ]
  },
  {
   "cell_type": "code",
   "execution_count": 19,
   "id": "21cd9fce",
   "metadata": {},
   "outputs": [
    {
     "name": "stdout",
     "output_type": "stream",
     "text": [
      "1.25 ms ± 4.96 µs per loop (mean ± std. dev. of 7 runs, 1000 loops each)\n"
     ]
    }
   ],
   "source": [
    "def latitudes(size):\n",
    "    latitudes = []\n",
    "    x = 0\n",
    "    while x < (size):\n",
    "        random_lat = random.randint(-90, 90) + random.random()\n",
    "        latitudes.append(random_lat)\n",
    "        x += 1\n",
    "    return latitudes\n",
    "# Call the function with 1500.\n",
    "%timeit latitudes(1500)\n"
   ]
  },
  {
   "cell_type": "code",
   "execution_count": null,
   "id": "12c419df",
   "metadata": {},
   "outputs": [],
   "source": []
  }
 ],
 "metadata": {
  "kernelspec": {
   "display_name": "Python 3 (ipykernel)",
   "language": "python",
   "name": "python3"
  },
  "language_info": {
   "codemirror_mode": {
    "name": "ipython",
    "version": 3
   },
   "file_extension": ".py",
   "mimetype": "text/x-python",
   "name": "python",
   "nbconvert_exporter": "python",
   "pygments_lexer": "ipython3",
   "version": "3.9.7"
  }
 },
 "nbformat": 4,
 "nbformat_minor": 5
}
